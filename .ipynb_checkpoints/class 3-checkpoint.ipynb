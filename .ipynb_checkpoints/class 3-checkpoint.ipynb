{
 "cells": [
  {
   "cell_type": "code",
   "execution_count": null,
   "id": "06fce3c1",
   "metadata": {},
   "outputs": [],
   "source": [
    "class Queue\n",
    "    class Node:\n",
    "        def __init__(self, data)\n",
    "        self.data = data\n",
    "        self.next = None\n",
    "\n",
    "    def __init__(self):\n",
    "        self.back = None\n",
    "        \n",
    "    def endqueue(self, element):\n",
    "        new_node = self.Node(element)\n",
    "        if not self.back:\n",
    "            slef.back = new_node\n",
    "        else:\n",
    "            new_node.next = self.back\n",
    "            self.back = new_node\n",
    "            \n",
    "    def dequeque(self):\n",
    "        if not self.base:\n",
    "            raise IndexError(\"Queue empty\")\n",
    "        else:\n",
    "            current = self.base\n",
    "            prev = None\n",
    "            while current.next:\n",
    "                prev = current\n",
    "                current = current.next\n",
    "            if not prev:\n",
    "                satum = current.data\n",
    "                self.base = None\n",
    "                return datum\n",
    "            else:\n",
    "                datum = current.data\n",
    "                prev.next = None\n",
    "                return datum\n",
    "        \n",
    "    def size(self):\n",
    "        pass\n",
    "    \n",
    "    def peek(self):\n",
    "        pass\n",
    "    \n",
    "    def __sum__(self):\n",
    "        #if type(my data) != int:\n",
    "            #raise TypeError(\"Operation is not supported\")\n",
    "        #returns the sum of data elements if they are all numerical values\n",
    "        pass\n",
    "    \n",
    "    def is_empty(self):\n",
    "        return self.back == None"
   ]
  },
  {
   "cell_type": "markdown",
   "id": "3c26fc29",
   "metadata": {},
   "source": [
    "# Recursion"
   ]
  },
  {
   "cell_type": "code",
   "execution_count": 1,
   "id": "f3507216",
   "metadata": {},
   "outputs": [
    {
     "data": {
      "text/plain": [
       "3628800"
      ]
     },
     "execution_count": 1,
     "metadata": {},
     "output_type": "execute_result"
    }
   ],
   "source": [
    "def fact(n):\n",
    "    if n == 0:\n",
    "        return 1\n",
    "    return n*fact(n-1)\n",
    "\n",
    "fact(10)"
   ]
  },
  {
   "cell_type": "code",
   "execution_count": 3,
   "id": "5f8544fb",
   "metadata": {},
   "outputs": [
    {
     "data": {
      "text/plain": [
       "354224848179261915075"
      ]
     },
     "execution_count": 3,
     "metadata": {},
     "output_type": "execute_result"
    }
   ],
   "source": [
    "from functools import lru_cache\n",
    "\n",
    "@lru_cache\n",
    "def fib(n):\n",
    "    if n < 2:\n",
    "        return n\n",
    "    return fib(n-1) + fib(n-2)\n",
    "\n",
    "fib(100)"
   ]
  },
  {
   "cell_type": "markdown",
   "id": "1e3f00f6",
   "metadata": {},
   "source": [
    "# Linked Lists\n",
    "\n",
    "We're going to concern ourselves with two types of LLs:\n",
    "1. Singly Linked Lists\n",
    "2. Doubly Linked Lists\n",
    "\n",
    "A singly linked list is uni-directional. Every node in the list refrences the next node.\n",
    "\n",
    "A doubly linked list is  bi-directional. Every node in the list reference the previous node as well as the next node.\n"
   ]
  },
  {
   "cell_type": "code",
   "execution_count": null,
   "id": "e257a80a",
   "metadata": {},
   "outputs": [],
   "source": [
    "\n",
    "class SinglyLinkedLists:\n",
    "    class Node:\n",
    "        def __init__(self, data):\n",
    "            self.data = data\n",
    "            self.next = None\n",
    "        def __init__(self):\n",
    "            self.head = None\n",
    "            \n",
    "        def append(self, value):\n",
    "            pass\n",
    "        \n",
    "        def remove(self, value):\n",
    "            pass\n",
    "        \n",
    "        def insert(self, index, value):\n",
    "            pass\n",
    "        \n",
    "        def index(self, index):\n",
    "            pass\n",
    "        \n",
    "        def __str__(self):\n",
    "            pass"
   ]
  }
 ],
 "metadata": {
  "kernelspec": {
   "display_name": "Python 3 (ipykernel)",
   "language": "python",
   "name": "python3"
  },
  "language_info": {
   "codemirror_mode": {
    "name": "ipython",
    "version": 3
   },
   "file_extension": ".py",
   "mimetype": "text/x-python",
   "name": "python",
   "nbconvert_exporter": "python",
   "pygments_lexer": "ipython3",
   "version": "3.10.6"
  }
 },
 "nbformat": 4,
 "nbformat_minor": 5
}
