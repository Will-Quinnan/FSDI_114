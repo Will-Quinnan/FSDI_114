{
 "cells": [
  {
   "cell_type": "code",
   "execution_count": 10,
   "id": "abe90900",
   "metadata": {},
   "outputs": [],
   "source": [
    "class Stack:\n",
    "    def __init__(self):\n",
    "        self.items = []\n",
    "\n",
    "    def push(self, element):\n",
    "        self.items.append(element)\n",
    "\n",
    "    def pop(self):\n",
    "        return self.items.pop()\n",
    "\n",
    "    def is_empty(self): return self.items == []\n",
    "\n",
    "    def size(self):\n",
    "        return len(self.items)\n",
    "    def peek(self):\n",
    "        return self.items[len(self.items)-1]\n",
    "    "
   ]
  },
  {
   "cell_type": "code",
   "execution_count": 12,
   "id": "c95331c5",
   "metadata": {},
   "outputs": [],
   "source": [
    "class Node:\n",
    "    def __init__(self, data):\n",
    "        self.data = data\n",
    "        self.above = None\n",
    "        "
   ]
  },
  {
   "cell_type": "code",
   "execution_count": 14,
   "id": "048daeac",
   "metadata": {},
   "outputs": [],
   "source": [
    "class Stack:\n",
    "    def __init__(self):\n",
    "        self.base = None\n",
    "        \n",
    "    def push(self, element):\n",
    "        \n",
    "        new_node = Node(element)\n",
    "        if not self.base:\n",
    "            self.base = new_node\n",
    "        else:\n",
    "            current = self.base\n",
    "            while current.above:\n",
    "                current = current.above\n",
    "            current.above = new_node\n",
    "            \n",
    "    def pop(self):\n",
    "        if not self.base:\n",
    "            raise IndexError(\"Stack is empty\")\n",
    "        else:\n",
    "            current = self.base\n",
    "            prev = None\n",
    "            while current = current.above\n",
    "                prev = current\n",
    "                current = current.above\n",
    "            if not prev:\n",
    "                datum = self.base.data\n",
    "                self.base = None\n",
    "                return datum\n",
    "            else:\n",
    "                datum = current. data\n",
    "                prev.above = None\n",
    "                return datum\n",
    "    def is_empty(self):\n",
    "        return self.base == None\n",
    "    \n",
    "    def size(self):\n",
    "        count = 0\n",
    "        current = self.base\n",
    "        while current:\n",
    "            count += 1\n",
    "            current = current.above\n",
    "        return count\n",
    "    \n",
    "    def peek(self):\n",
    "        if not self.base:\n",
    "            return None\n",
    "        else:\n",
    "            current = self.base\n",
    "            while current.above:\n",
    "                current = current.above\n",
    "            return current.data\n",
    "    \n",
    "    def __len__(self):\n",
    "        return self.size\n",
    "                "
   ]
  },
  {
   "cell_type": "code",
   "execution_count": 15,
   "id": "844b235a",
   "metadata": {},
   "outputs": [
    {
     "name": "stdout",
     "output_type": "stream",
     "text": [
      "5\n",
      "140508969615760\n",
      "140508969615728\n"
     ]
    }
   ],
   "source": [
    "#Primary data types\n",
    "#int, float, bool, imaginary\n",
    "# pass by value\n",
    "\n",
    "x=5\n",
    "y=x\n",
    "\n",
    "x = x + 1\n",
    "\n",
    "print(y)\n",
    "print(id(x))\n",
    "print(id(y))"
   ]
  },
  {
   "cell_type": "code",
   "execution_count": 11,
   "id": "dc21fcbe",
   "metadata": {},
   "outputs": [
    {
     "data": {
      "text/plain": [
       "' lliW'"
      ]
     },
     "execution_count": 11,
     "metadata": {},
     "output_type": "execute_result"
    }
   ],
   "source": [
    "def invert_str(mystring):\n",
    "    stack = Stack()\n",
    "    for letter in mystring:\n",
    "        stack.push(letter)\n",
    "    out = \" \"\n",
    "    while not stack.is_empty():\n",
    "        out += stack.pop()\n",
    "    return out\n",
    "\n",
    "invert_str(\"Will\")"
   ]
  },
  {
   "cell_type": "code",
   "execution_count": 16,
   "id": "870dafa3",
   "metadata": {},
   "outputs": [
    {
     "ename": "SyntaxError",
     "evalue": "expected ':' (3481509547.py, line 1)",
     "output_type": "error",
     "traceback": [
      "\u001b[0;36m  Cell \u001b[0;32mIn[16], line 1\u001b[0;36m\u001b[0m\n\u001b[0;31m    class Queue\u001b[0m\n\u001b[0m               ^\u001b[0m\n\u001b[0;31mSyntaxError\u001b[0m\u001b[0;31m:\u001b[0m expected ':'\n"
     ]
    }
   ],
   "source": [
    "class Queue\n",
    "    def __init__(self):\n",
    "        self.items = []\n",
    "        \n",
    "    def endqueue(self, element)\n",
    "        self.items.insert(), element\n",
    "        \n",
    "    def dequeue(self):\n",
    "        return self.items.pop()\n",
    "    \n",
    "    \n",
    "    def is_empty(self):\n",
    "        return self.items == []\n",
    "    \n",
    "    def size(self):\n",
    "        return len(self.items)\n",
    "    \n",
    "    def peek(self):\n",
    "        return self.items[len(self.items)-1]\n",
    "        "
   ]
  }
 ],
 "metadata": {
  "kernelspec": {
   "display_name": "Python 3 (ipykernel)",
   "language": "python",
   "name": "python3"
  },
  "language_info": {
   "codemirror_mode": {
    "name": "ipython",
    "version": 3
   },
   "file_extension": ".py",
   "mimetype": "text/x-python",
   "name": "python",
   "nbconvert_exporter": "python",
   "pygments_lexer": "ipython3",
   "version": "3.10.6"
  }
 },
 "nbformat": 4,
 "nbformat_minor": 5
}
