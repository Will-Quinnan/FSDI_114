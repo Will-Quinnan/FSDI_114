{
 "cells": [
  {
   "cell_type": "code",
   "execution_count": 5,
   "id": "7c1248ab",
   "metadata": {},
   "outputs": [
    {
     "name": "stdout",
     "output_type": "stream",
     "text": [
      "H\n",
      "e\n",
      "l\n",
      "l\n",
      "o\n",
      " \n",
      "w\n",
      "o\n",
      "r\n",
      "l\n",
      "d\n"
     ]
    }
   ],
   "source": [
    "for letter in \"Hello, world\":\n",
    "    print (letter)\n",
    "    "
   ]
  },
  {
   "cell_type": "markdown",
   "id": "ea813908",
   "metadata": {},
   "source": [
    "# Challenge 1: Anagram checker\n",
    "### Given 2 strings (string_a and string_b) write a function that returns True if these are anagrams of each other, Flase otherwise.\n",
    "*Criteria:*\n",
    "> Two strings are anagrams of each other if all the conditions below are met:\n",
    "> 1. They must be of equal length.\n",
    "> 2. They must use the exact same charecters (the same amount of times).\n",
    "\n",
    "```\n",
    "Examples:\n",
    "heart and earth\n",
    "cars and scar\n",
    "rats and star\n",
    "```"
   ]
  },
  {
   "cell_type": "code",
   "execution_count": null,
   "id": "56ee4c4e",
   "metadata": {},
   "outputs": [],
   "source": [
    "\n",
    "\n",
    "def anagram_check(string_a, string_b):\n",
    "    string_a = string_a.lower().replace(\" \",\" \")\n",
    "    string_b = string_b.lower().replace(\" \",\" \")\n",
    "    if len(string_a) != len(string_b):\n",
    "        return False\n",
    "    seen_a[index] = dict()\n",
    "    seen_b[index] = dict()\n",
    "    for index in range (len(string_a)):\n",
    "        if seen_a[index] in seen_a.keys():\n",
    "            seena[string_a[index]] += 1\n",
    "        else:\n",
    "            seen_a[string_a[index]] = 1\n",
    "        if seen_b[index] in seen_b.keys():\n",
    "            seen_b[string_b[index]] += 1\n",
    "        else:\n",
    "            seen_b[string_b[index]] = 1\n",
    "    return seen_a==seen_b    \n",
    "        "
   ]
  }
 ],
 "metadata": {
  "kernelspec": {
   "display_name": "Python 3 (ipykernel)",
   "language": "python",
   "name": "python3"
  },
  "language_info": {
   "codemirror_mode": {
    "name": "ipython",
    "version": 3
   },
   "file_extension": ".py",
   "mimetype": "text/x-python",
   "name": "python",
   "nbconvert_exporter": "python",
   "pygments_lexer": "ipython3",
   "version": "3.10.6"
  }
 },
 "nbformat": 4,
 "nbformat_minor": 5
}
